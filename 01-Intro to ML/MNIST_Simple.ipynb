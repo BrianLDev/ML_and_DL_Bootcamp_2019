{
  "nbformat": 4,
  "nbformat_minor": 0,
  "metadata": {
    "colab": {
      "name": "MNIST_Simple.ipynb",
      "version": "0.3.2",
      "provenance": [],
      "collapsed_sections": []
    },
    "kernelspec": {
      "display_name": "Python 3",
      "language": "python",
      "name": "python3"
    },
    "accelerator": "GPU"
  },
  "cells": [
    {
      "metadata": {
        "id": "6miluHQwHaMP",
        "colab_type": "text"
      },
      "cell_type": "markdown",
      "source": [
        "# MNIST - Classification"
      ]
    },
    {
      "metadata": {
        "id": "s7-cQEBYHaMR",
        "colab_type": "text"
      },
      "cell_type": "markdown",
      "source": [
        "<center><img src=\"https://www.dropbox.com/s/i37mgynkrf1d3vb/supervised_flow_chart.png?raw=1\" height=300px width=1000px></img></center>"
      ]
    },
    {
      "metadata": {
        "id": "KBIpjEBDHaMS",
        "colab_type": "text"
      },
      "cell_type": "markdown",
      "source": [
        "# 01 : Frame the Problem"
      ]
    },
    {
      "metadata": {
        "id": "F8-rKIDaHaMS",
        "colab_type": "text"
      },
      "cell_type": "markdown",
      "source": [
        "We need to build a classifier using the MNIST dataset, which is a set of 70,000 small images of digits handwritten by high school students and employees of the US Census Bureau. Each image is labeled with the digit it represents. This set has been studied so much that it is often called the “Hello World” of Machine Learning. \n",
        "\n",
        "Whenever people come up with a new classification algorithm, they are curious to see how it will perform on MNIST. Whenever someone learns Machine Learning, sooner or later they tackle MNIST. \n",
        "\n",
        "Each image is labeled with the digit it represents. Each digit is represented by 28 x 28, each cell representing pixel depth."
      ]
    },
    {
      "metadata": {
        "id": "c7oRxXGbHaMT",
        "colab_type": "text"
      },
      "cell_type": "markdown",
      "source": [
        "# 02 : Obtaining the Data"
      ]
    },
    {
      "metadata": {
        "id": "A6CfGVYUHaMT",
        "colab_type": "text"
      },
      "cell_type": "markdown",
      "source": [
        "### Import the Libraries"
      ]
    },
    {
      "metadata": {
        "id": "gAuLWxDlHaMV",
        "colab_type": "code",
        "colab": {}
      },
      "cell_type": "code",
      "source": [
        "import numpy as np\n",
        "import os\n",
        "import pandas as pd\n",
        "%matplotlib inline\n",
        "import matplotlib\n",
        "import matplotlib.pyplot as plt"
      ],
      "execution_count": 0,
      "outputs": []
    },
    {
      "metadata": {
        "id": "qZ8p8dseHaMY",
        "colab_type": "text"
      },
      "cell_type": "markdown",
      "source": [
        "### Reading the data from CSV File"
      ]
    },
    {
      "metadata": {
        "id": "gAXrrk2dHaMZ",
        "colab_type": "code",
        "colab": {
          "base_uri": "https://localhost:8080/",
          "height": 362
        },
        "outputId": "dd233e1e-32fa-4b3b-b38a-8de303122f7c"
      },
      "cell_type": "code",
      "source": [
        "!wget https://www.dropbox.com/s/lskvhzb0gy8npv9/mnistdata.csv\n",
        "# comment out the above line if running this in Jupyter\n",
        "mnist = pd.read_csv(\"mnistdata.csv\")"
      ],
      "execution_count": 7,
      "outputs": [
        {
          "output_type": "stream",
          "text": [
            "--2019-04-28 21:39:19--  https://www.dropbox.com/s/lskvhzb0gy8npv9/mnistdata.csv\n",
            "Resolving www.dropbox.com (www.dropbox.com)... 162.125.1.1, 2620:100:6016:1::a27d:101\n",
            "Connecting to www.dropbox.com (www.dropbox.com)|162.125.1.1|:443... connected.\n",
            "HTTP request sent, awaiting response... 301 Moved Permanently\n",
            "Location: /s/raw/lskvhzb0gy8npv9/mnistdata.csv [following]\n",
            "--2019-04-28 21:39:19--  https://www.dropbox.com/s/raw/lskvhzb0gy8npv9/mnistdata.csv\n",
            "Reusing existing connection to www.dropbox.com:443.\n",
            "HTTP request sent, awaiting response... 302 Found\n",
            "Location: https://uc411bca2a52769128052a32a1f9.dl.dropboxusercontent.com/cd/0/inline/Af4YOKs-YPQqt4mlI2xv7CeSdZqW4BUJ1qxLCX1RYYTrCvdq1m85lSwCWaXziIMyOo8voQZK-ttqmEcCaGrmjG_BVULt85vFC7B545TcXrqJ4A/file# [following]\n",
            "--2019-04-28 21:39:19--  https://uc411bca2a52769128052a32a1f9.dl.dropboxusercontent.com/cd/0/inline/Af4YOKs-YPQqt4mlI2xv7CeSdZqW4BUJ1qxLCX1RYYTrCvdq1m85lSwCWaXziIMyOo8voQZK-ttqmEcCaGrmjG_BVULt85vFC7B545TcXrqJ4A/file\n",
            "Resolving uc411bca2a52769128052a32a1f9.dl.dropboxusercontent.com (uc411bca2a52769128052a32a1f9.dl.dropboxusercontent.com)... 162.125.1.6, 2620:100:6016:6::a27d:106\n",
            "Connecting to uc411bca2a52769128052a32a1f9.dl.dropboxusercontent.com (uc411bca2a52769128052a32a1f9.dl.dropboxusercontent.com)|162.125.1.6|:443... connected.\n",
            "HTTP request sent, awaiting response... 200 OK\n",
            "Length: 127938470 (122M) [text/plain]\n",
            "Saving to: ‘mnistdata.csv.1’\n",
            "\n",
            "mnistdata.csv.1     100%[===================>] 122.01M  92.7MB/s    in 1.3s    \n",
            "\n",
            "2019-04-28 21:39:21 (92.7 MB/s) - ‘mnistdata.csv.1’ saved [127938470/127938470]\n",
            "\n"
          ],
          "name": "stdout"
        }
      ]
    },
    {
      "metadata": {
        "id": "bCmioiDP4ztE",
        "colab_type": "code",
        "colab": {
          "base_uri": "https://localhost:8080/",
          "height": 98
        },
        "outputId": "0c329d03-f84f-4e91-bec1-b84e0f5bb8d1"
      },
      "cell_type": "code",
      "source": [
        "mnist.info()"
      ],
      "execution_count": 8,
      "outputs": [
        {
          "output_type": "stream",
          "text": [
            "<class 'pandas.core.frame.DataFrame'>\n",
            "RangeIndex: 70000 entries, 0 to 69999\n",
            "Columns: 785 entries, Label to 783\n",
            "dtypes: int64(785)\n",
            "memory usage: 419.2 MB\n"
          ],
          "name": "stdout"
        }
      ]
    },
    {
      "metadata": {
        "id": "V4xO2qdU4FnM",
        "colab_type": "code",
        "colab": {
          "base_uri": "https://localhost:8080/",
          "height": 218
        },
        "outputId": "f88bffe9-2c45-44ec-9b35-e2f5ae226161"
      },
      "cell_type": "code",
      "source": [
        "mnist.head()"
      ],
      "execution_count": 9,
      "outputs": [
        {
          "output_type": "execute_result",
          "data": {
            "text/html": [
              "<div>\n",
              "<style scoped>\n",
              "    .dataframe tbody tr th:only-of-type {\n",
              "        vertical-align: middle;\n",
              "    }\n",
              "\n",
              "    .dataframe tbody tr th {\n",
              "        vertical-align: top;\n",
              "    }\n",
              "\n",
              "    .dataframe thead th {\n",
              "        text-align: right;\n",
              "    }\n",
              "</style>\n",
              "<table border=\"1\" class=\"dataframe\">\n",
              "  <thead>\n",
              "    <tr style=\"text-align: right;\">\n",
              "      <th></th>\n",
              "      <th>Label</th>\n",
              "      <th>0</th>\n",
              "      <th>1</th>\n",
              "      <th>2</th>\n",
              "      <th>3</th>\n",
              "      <th>4</th>\n",
              "      <th>5</th>\n",
              "      <th>6</th>\n",
              "      <th>7</th>\n",
              "      <th>8</th>\n",
              "      <th>...</th>\n",
              "      <th>774</th>\n",
              "      <th>775</th>\n",
              "      <th>776</th>\n",
              "      <th>777</th>\n",
              "      <th>778</th>\n",
              "      <th>779</th>\n",
              "      <th>780</th>\n",
              "      <th>781</th>\n",
              "      <th>782</th>\n",
              "      <th>783</th>\n",
              "    </tr>\n",
              "  </thead>\n",
              "  <tbody>\n",
              "    <tr>\n",
              "      <th>0</th>\n",
              "      <td>0</td>\n",
              "      <td>0</td>\n",
              "      <td>0</td>\n",
              "      <td>0</td>\n",
              "      <td>0</td>\n",
              "      <td>0</td>\n",
              "      <td>0</td>\n",
              "      <td>0</td>\n",
              "      <td>0</td>\n",
              "      <td>0</td>\n",
              "      <td>...</td>\n",
              "      <td>0</td>\n",
              "      <td>0</td>\n",
              "      <td>0</td>\n",
              "      <td>0</td>\n",
              "      <td>0</td>\n",
              "      <td>0</td>\n",
              "      <td>0</td>\n",
              "      <td>0</td>\n",
              "      <td>0</td>\n",
              "      <td>0</td>\n",
              "    </tr>\n",
              "    <tr>\n",
              "      <th>1</th>\n",
              "      <td>0</td>\n",
              "      <td>0</td>\n",
              "      <td>0</td>\n",
              "      <td>0</td>\n",
              "      <td>0</td>\n",
              "      <td>0</td>\n",
              "      <td>0</td>\n",
              "      <td>0</td>\n",
              "      <td>0</td>\n",
              "      <td>0</td>\n",
              "      <td>...</td>\n",
              "      <td>0</td>\n",
              "      <td>0</td>\n",
              "      <td>0</td>\n",
              "      <td>0</td>\n",
              "      <td>0</td>\n",
              "      <td>0</td>\n",
              "      <td>0</td>\n",
              "      <td>0</td>\n",
              "      <td>0</td>\n",
              "      <td>0</td>\n",
              "    </tr>\n",
              "    <tr>\n",
              "      <th>2</th>\n",
              "      <td>0</td>\n",
              "      <td>0</td>\n",
              "      <td>0</td>\n",
              "      <td>0</td>\n",
              "      <td>0</td>\n",
              "      <td>0</td>\n",
              "      <td>0</td>\n",
              "      <td>0</td>\n",
              "      <td>0</td>\n",
              "      <td>0</td>\n",
              "      <td>...</td>\n",
              "      <td>0</td>\n",
              "      <td>0</td>\n",
              "      <td>0</td>\n",
              "      <td>0</td>\n",
              "      <td>0</td>\n",
              "      <td>0</td>\n",
              "      <td>0</td>\n",
              "      <td>0</td>\n",
              "      <td>0</td>\n",
              "      <td>0</td>\n",
              "    </tr>\n",
              "    <tr>\n",
              "      <th>3</th>\n",
              "      <td>0</td>\n",
              "      <td>0</td>\n",
              "      <td>0</td>\n",
              "      <td>0</td>\n",
              "      <td>0</td>\n",
              "      <td>0</td>\n",
              "      <td>0</td>\n",
              "      <td>0</td>\n",
              "      <td>0</td>\n",
              "      <td>0</td>\n",
              "      <td>...</td>\n",
              "      <td>0</td>\n",
              "      <td>0</td>\n",
              "      <td>0</td>\n",
              "      <td>0</td>\n",
              "      <td>0</td>\n",
              "      <td>0</td>\n",
              "      <td>0</td>\n",
              "      <td>0</td>\n",
              "      <td>0</td>\n",
              "      <td>0</td>\n",
              "    </tr>\n",
              "    <tr>\n",
              "      <th>4</th>\n",
              "      <td>0</td>\n",
              "      <td>0</td>\n",
              "      <td>0</td>\n",
              "      <td>0</td>\n",
              "      <td>0</td>\n",
              "      <td>0</td>\n",
              "      <td>0</td>\n",
              "      <td>0</td>\n",
              "      <td>0</td>\n",
              "      <td>0</td>\n",
              "      <td>...</td>\n",
              "      <td>0</td>\n",
              "      <td>0</td>\n",
              "      <td>0</td>\n",
              "      <td>0</td>\n",
              "      <td>0</td>\n",
              "      <td>0</td>\n",
              "      <td>0</td>\n",
              "      <td>0</td>\n",
              "      <td>0</td>\n",
              "      <td>0</td>\n",
              "    </tr>\n",
              "  </tbody>\n",
              "</table>\n",
              "<p>5 rows × 785 columns</p>\n",
              "</div>"
            ],
            "text/plain": [
              "   Label  0  1  2  3  4  5  6  7  8  ...  774  775  776  777  778  779  780  \\\n",
              "0      0  0  0  0  0  0  0  0  0  0  ...    0    0    0    0    0    0    0   \n",
              "1      0  0  0  0  0  0  0  0  0  0  ...    0    0    0    0    0    0    0   \n",
              "2      0  0  0  0  0  0  0  0  0  0  ...    0    0    0    0    0    0    0   \n",
              "3      0  0  0  0  0  0  0  0  0  0  ...    0    0    0    0    0    0    0   \n",
              "4      0  0  0  0  0  0  0  0  0  0  ...    0    0    0    0    0    0    0   \n",
              "\n",
              "   781  782  783  \n",
              "0    0    0    0  \n",
              "1    0    0    0  \n",
              "2    0    0    0  \n",
              "3    0    0    0  \n",
              "4    0    0    0  \n",
              "\n",
              "[5 rows x 785 columns]"
            ]
          },
          "metadata": {
            "tags": []
          },
          "execution_count": 9
        }
      ]
    },
    {
      "metadata": {
        "id": "_Wq7FtYpHaMf",
        "colab_type": "code",
        "colab": {}
      },
      "cell_type": "code",
      "source": [
        "y = mnist['Label'] #getting the labels from Data\n",
        "#mnist.drop('Label',axis=1,inplace = True) #After we drop the Labels we have remaining data.\n",
        "X = mnist.drop('Label',axis=1)"
      ],
      "execution_count": 0,
      "outputs": []
    },
    {
      "metadata": {
        "id": "QieiGqROHaMg",
        "colab_type": "code",
        "colab": {
          "base_uri": "https://localhost:8080/",
          "height": 33
        },
        "outputId": "fbf4b949-b928-4b0a-a0ba-bf3ddc3a8849"
      },
      "cell_type": "code",
      "source": [
        "X.shape"
      ],
      "execution_count": 11,
      "outputs": [
        {
          "output_type": "execute_result",
          "data": {
            "text/plain": [
              "(70000, 784)"
            ]
          },
          "metadata": {
            "tags": []
          },
          "execution_count": 11
        }
      ]
    },
    {
      "metadata": {
        "id": "yF3uvj8RuPys",
        "colab_type": "code",
        "colab": {
          "base_uri": "https://localhost:8080/",
          "height": 33
        },
        "outputId": "5c32732a-9a50-46d5-baf6-ae61c678c71c"
      },
      "cell_type": "code",
      "source": [
        "type(y)"
      ],
      "execution_count": 12,
      "outputs": [
        {
          "output_type": "execute_result",
          "data": {
            "text/plain": [
              "pandas.core.series.Series"
            ]
          },
          "metadata": {
            "tags": []
          },
          "execution_count": 12
        }
      ]
    },
    {
      "metadata": {
        "id": "dnslSUnKHaMk",
        "colab_type": "code",
        "colab": {
          "base_uri": "https://localhost:8080/",
          "height": 33
        },
        "outputId": "721e3426-767b-4710-9807-4fc737aaecc4"
      },
      "cell_type": "code",
      "source": [
        "y.shape"
      ],
      "execution_count": 13,
      "outputs": [
        {
          "output_type": "execute_result",
          "data": {
            "text/plain": [
              "(70000,)"
            ]
          },
          "metadata": {
            "tags": []
          },
          "execution_count": 13
        }
      ]
    },
    {
      "metadata": {
        "id": "eaZBr2I7HaMm",
        "colab_type": "code",
        "colab": {
          "base_uri": "https://localhost:8080/",
          "height": 33
        },
        "outputId": "3511cd0b-7a94-45a8-edfa-4d4840c78fa6"
      },
      "cell_type": "code",
      "source": [
        "28*28 "
      ],
      "execution_count": 14,
      "outputs": [
        {
          "output_type": "execute_result",
          "data": {
            "text/plain": [
              "784"
            ]
          },
          "metadata": {
            "tags": []
          },
          "execution_count": 14
        }
      ]
    },
    {
      "metadata": {
        "id": "EgKftEGbHaMp",
        "colab_type": "text"
      },
      "cell_type": "markdown",
      "source": [
        "# 03 : Analyze Data"
      ]
    },
    {
      "metadata": {
        "id": "E82AjK9SHaMq",
        "colab_type": "text"
      },
      "cell_type": "markdown",
      "source": [
        "Prepare the Features and Target variables.\n",
        "To analyze what is the shape of the feature set."
      ]
    },
    {
      "metadata": {
        "id": "XHxKLkemHaMr",
        "colab_type": "text"
      },
      "cell_type": "markdown",
      "source": [
        "Visualizing a random digit using the Matplotlib Library"
      ]
    },
    {
      "metadata": {
        "id": "hTkOcWd3HaMr",
        "colab_type": "code",
        "colab": {
          "base_uri": "https://localhost:8080/",
          "height": 265
        },
        "outputId": "95568c0a-f2e5-46dd-911f-7f314d0bb093"
      },
      "cell_type": "code",
      "source": [
        "some_digit = X.iloc[35000]\n",
        "#some_digit_image = some_digit.reshape(28, 28) # to get it into a 2D array  # BL NOTE - DOESN'T WORK\n",
        "some_digit_image = some_digit.values.reshape(28, 28) # to get it into a 2D array\n",
        "plt.imshow(some_digit_image, cmap = matplotlib.cm.binary,\n",
        "           interpolation=\"nearest\")\n",
        "plt.axis(\"off\")\n",
        "plt.show();"
      ],
      "execution_count": 16,
      "outputs": [
        {
          "output_type": "display_data",
          "data": {
            "image/png": "[encoded data removed]",
            "text/plain": [
              "<Figure size 432x288 with 1 Axes>"
            ]
          },
          "metadata": {
            "tags": []
          }
        }
      ]
    },
    {
      "metadata": {
        "id": "5fDXbThnu4DL",
        "colab_type": "code",
        "colab": {
          "base_uri": "https://localhost:8080/",
          "height": 33
        },
        "outputId": "24e671ce-3170-4b13-da7a-0be8c3eafd3a"
      },
      "cell_type": "code",
      "source": [
        "some_digit_image.shape"
      ],
      "execution_count": 17,
      "outputs": [
        {
          "output_type": "execute_result",
          "data": {
            "text/plain": [
              "(28, 28)"
            ]
          },
          "metadata": {
            "tags": []
          },
          "execution_count": 17
        }
      ]
    },
    {
      "metadata": {
        "id": "1YGUoXltwBnx",
        "colab_type": "code",
        "colab": {
          "base_uri": "https://localhost:8080/",
          "height": 33
        },
        "outputId": "9afcda65-e9e2-4041-b6cc-39297f69cc7b"
      },
      "cell_type": "code",
      "source": [
        "some_digit_image.max()"
      ],
      "execution_count": 18,
      "outputs": [
        {
          "output_type": "execute_result",
          "data": {
            "text/plain": [
              "254"
            ]
          },
          "metadata": {
            "tags": []
          },
          "execution_count": 18
        }
      ]
    },
    {
      "metadata": {
        "id": "Oerce-cAHaMu",
        "colab_type": "code",
        "colab": {
          "base_uri": "https://localhost:8080/",
          "height": 33
        },
        "outputId": "00089b73-a544-46b5-9aca-50ed6aac4753"
      },
      "cell_type": "code",
      "source": [
        "y[35000]"
      ],
      "execution_count": 19,
      "outputs": [
        {
          "output_type": "execute_result",
          "data": {
            "text/plain": [
              "5"
            ]
          },
          "metadata": {
            "tags": []
          },
          "execution_count": 19
        }
      ]
    },
    {
      "metadata": {
        "id": "2JhFTfXnHaMy",
        "colab_type": "text"
      },
      "cell_type": "markdown",
      "source": [
        "# 04 : Feature Engineering"
      ]
    },
    {
      "metadata": {
        "id": "ztLVyxSnHaMy",
        "colab_type": "text"
      },
      "cell_type": "markdown",
      "source": [
        "MNIST data is divided as follows:  \n",
        "- Train Data - First 60000 rows  \n",
        "- Test Data - Last 10000 rows  "
      ]
    },
    {
      "metadata": {
        "id": "-VehfX9mHaMz",
        "colab_type": "code",
        "colab": {}
      },
      "cell_type": "code",
      "source": [
        "X_train, X_test, y_train, y_test = X[:60000], X[60000:], y[:60000], y[60000:]"
      ],
      "execution_count": 0,
      "outputs": []
    },
    {
      "metadata": {
        "id": "RYzuIMGwHaM1",
        "colab_type": "text"
      },
      "cell_type": "markdown",
      "source": [
        "As all the numbers are in the same place, we shuffle them randomly using numpy permutations function"
      ]
    },
    {
      "metadata": {
        "id": "6K1qyeSVHaM2",
        "colab_type": "code",
        "colab": {}
      },
      "cell_type": "code",
      "source": [
        "import numpy as np\n",
        "\n",
        "shuffle_index = np.random.permutation(60000)\n",
        "X_train, y_train = X_train.iloc[shuffle_index], y_train.iloc[shuffle_index]"
      ],
      "execution_count": 0,
      "outputs": []
    },
    {
      "metadata": {
        "id": "YqjEmH9gxIRD",
        "colab_type": "code",
        "colab": {
          "base_uri": "https://localhost:8080/",
          "height": 33
        },
        "outputId": "5db17b45-ba03-45b2-c144-5f1c3dbe8ace"
      },
      "cell_type": "code",
      "source": [
        "type(shuffle_index)"
      ],
      "execution_count": 22,
      "outputs": [
        {
          "output_type": "execute_result",
          "data": {
            "text/plain": [
              "numpy.ndarray"
            ]
          },
          "metadata": {
            "tags": []
          },
          "execution_count": 22
        }
      ]
    },
    {
      "metadata": {
        "id": "4wW8IjBwHaM3",
        "colab_type": "text"
      },
      "cell_type": "markdown",
      "source": [
        "# 05-A : Model Selection\n",
        "\n",
        "\n",
        "\n"
      ]
    },
    {
      "metadata": {
        "id": "56yQfocjHaM5",
        "colab_type": "text"
      },
      "cell_type": "markdown",
      "source": [
        "### Binary classifier"
      ]
    },
    {
      "metadata": {
        "id": "JAd20-sZHaM5",
        "colab_type": "text"
      },
      "cell_type": "markdown",
      "source": [
        "Instead of prediciting all the classes, we first predict whether a number is '5' or not.  \n",
        "We create a target test and train variables such that we have True for digits representing '5' and False for digits representing other than '5'."
      ]
    },
    {
      "metadata": {
        "id": "_4EmSHllHaM6",
        "colab_type": "code",
        "colab": {}
      },
      "cell_type": "code",
      "source": [
        "y_train_5 = (y_train == 5) \n",
        "y_test_5 = (y_test == 5)"
      ],
      "execution_count": 0,
      "outputs": []
    },
    {
      "metadata": {
        "id": "9B5c40J60rAc",
        "colab_type": "code",
        "colab": {
          "base_uri": "https://localhost:8080/",
          "height": 33
        },
        "outputId": "6f652d98-31e0-4207-9856-19d334d324b9"
      },
      "cell_type": "code",
      "source": [
        "y[12607]"
      ],
      "execution_count": 24,
      "outputs": [
        {
          "output_type": "execute_result",
          "data": {
            "text/plain": [
              "1"
            ]
          },
          "metadata": {
            "tags": []
          },
          "execution_count": 24
        }
      ]
    },
    {
      "metadata": {
        "id": "Rdt5JxBIHaM9",
        "colab_type": "code",
        "colab": {
          "base_uri": "https://localhost:8080/",
          "height": 683
        },
        "outputId": "807e2b68-ccc8-4dc4-c113-e2eb59bd9578"
      },
      "cell_type": "code",
      "source": [
        "y_train_5.head(40)"
      ],
      "execution_count": 25,
      "outputs": [
        {
          "output_type": "execute_result",
          "data": {
            "text/plain": [
              "58770    False\n",
              "40867    False\n",
              "57782    False\n",
              "55647    False\n",
              "57477    False\n",
              "4507     False\n",
              "3348     False\n",
              "44208    False\n",
              "15648    False\n",
              "51428    False\n",
              "10423    False\n",
              "46117    False\n",
              "56178    False\n",
              "8025     False\n",
              "33214     True\n",
              "18409    False\n",
              "52028    False\n",
              "932      False\n",
              "34957     True\n",
              "10387    False\n",
              "30604     True\n",
              "24099    False\n",
              "29545    False\n",
              "9897     False\n",
              "24181    False\n",
              "29839    False\n",
              "46175    False\n",
              "26408    False\n",
              "20883    False\n",
              "4620     False\n",
              "32471     True\n",
              "39121    False\n",
              "23137    False\n",
              "53928    False\n",
              "1861     False\n",
              "42662    False\n",
              "27632    False\n",
              "6886     False\n",
              "47674    False\n",
              "17636    False\n",
              "Name: Label, dtype: bool"
            ]
          },
          "metadata": {
            "tags": []
          },
          "execution_count": 25
        }
      ]
    },
    {
      "metadata": {
        "id": "xSu3g4g26h5X",
        "colab_type": "text"
      },
      "cell_type": "markdown",
      "source": [
        "### Venkatesh used SGD Classifier for the MNIST digits image classifier\n",
        "[SciKitLearn - Stocastic Gradient Descent](https://scikit-learn.org/stable/modules/generated/sklearn.linear_model.SGDClassifier.html)"
      ]
    },
    {
      "metadata": {
        "id": "opmLcQFfHaNA",
        "colab_type": "code",
        "colab": {
          "base_uri": "https://localhost:8080/",
          "height": 167
        },
        "outputId": "ad30c8b3-2227-4ea6-f364-bef2fb90054f"
      },
      "cell_type": "code",
      "source": [
        "from sklearn.linear_model import SGDClassifier\n",
        "\n",
        "sgd_clf = SGDClassifier(max_iter=5, random_state=42)\n",
        "sgd_clf.fit(X_train, y_train_5)"
      ],
      "execution_count": 26,
      "outputs": [
        {
          "output_type": "stream",
          "text": [
            "/usr/local/lib/python3.6/dist-packages/sklearn/linear_model/stochastic_gradient.py:183: FutureWarning: max_iter and tol parameters have been added in SGDClassifier in 0.19. If max_iter is set but tol is left unset, the default value for tol in 0.19 and 0.20 will be None (which is equivalent to -infinity, so it has no effect) but will change in 0.21 to 1e-3. Specify tol to silence this warning.\n",
            "  FutureWarning)\n"
          ],
          "name": "stderr"
        },
        {
          "output_type": "execute_result",
          "data": {
            "text/plain": [
              "SGDClassifier(alpha=0.0001, average=False, class_weight=None,\n",
              "       early_stopping=False, epsilon=0.1, eta0=0.0, fit_intercept=True,\n",
              "       l1_ratio=0.15, learning_rate='optimal', loss='hinge', max_iter=5,\n",
              "       n_iter=None, n_iter_no_change=5, n_jobs=None, penalty='l2',\n",
              "       power_t=0.5, random_state=42, shuffle=True, tol=None,\n",
              "       validation_fraction=0.1, verbose=0, warm_start=False)"
            ]
          },
          "metadata": {
            "tags": []
          },
          "execution_count": 26
        }
      ]
    },
    {
      "metadata": {
        "id": "mk1ABX0uHaND",
        "colab_type": "text"
      },
      "cell_type": "markdown",
      "source": [
        "# 06-A : Tune the Model"
      ]
    },
    {
      "metadata": {
        "id": "eBqwf4nOHaNF",
        "colab_type": "text"
      },
      "cell_type": "markdown",
      "source": [
        "Predicting the digit for random number."
      ]
    },
    {
      "metadata": {
        "id": "MhPdEGD7HaNF",
        "colab_type": "code",
        "colab": {
          "base_uri": "https://localhost:8080/",
          "height": 33
        },
        "outputId": "4ef182a4-4f3e-43c3-fcc8-cced276bf744"
      },
      "cell_type": "code",
      "source": [
        "sgd_clf.predict([some_digit])"
      ],
      "execution_count": 27,
      "outputs": [
        {
          "output_type": "execute_result",
          "data": {
            "text/plain": [
              "array([ True])"
            ]
          },
          "metadata": {
            "tags": []
          },
          "execution_count": 27
        }
      ]
    },
    {
      "metadata": {
        "id": "5qJVZKKTHaNI",
        "colab_type": "text"
      },
      "cell_type": "markdown",
      "source": [
        "Cross Value Score will evaluate the model for each fold and gives us an array representing the accuracy obtained in each fold."
      ]
    },
    {
      "metadata": {
        "id": "AJ27ZrO1HaNJ",
        "colab_type": "code",
        "colab": {
          "base_uri": "https://localhost:8080/",
          "height": 151
        },
        "outputId": "3fbadb7c-5a22-406f-b591-aace953fd684"
      },
      "cell_type": "code",
      "source": [
        "from sklearn.model_selection import cross_val_score\n",
        "cross_val_score(sgd_clf, X_train, y_train_5, cv=3, scoring=\"accuracy\")"
      ],
      "execution_count": 28,
      "outputs": [
        {
          "output_type": "stream",
          "text": [
            "/usr/local/lib/python3.6/dist-packages/sklearn/linear_model/stochastic_gradient.py:183: FutureWarning: max_iter and tol parameters have been added in SGDClassifier in 0.19. If max_iter is set but tol is left unset, the default value for tol in 0.19 and 0.20 will be None (which is equivalent to -infinity, so it has no effect) but will change in 0.21 to 1e-3. Specify tol to silence this warning.\n",
            "  FutureWarning)\n",
            "/usr/local/lib/python3.6/dist-packages/sklearn/linear_model/stochastic_gradient.py:183: FutureWarning: max_iter and tol parameters have been added in SGDClassifier in 0.19. If max_iter is set but tol is left unset, the default value for tol in 0.19 and 0.20 will be None (which is equivalent to -infinity, so it has no effect) but will change in 0.21 to 1e-3. Specify tol to silence this warning.\n",
            "  FutureWarning)\n",
            "/usr/local/lib/python3.6/dist-packages/sklearn/linear_model/stochastic_gradient.py:183: FutureWarning: max_iter and tol parameters have been added in SGDClassifier in 0.19. If max_iter is set but tol is left unset, the default value for tol in 0.19 and 0.20 will be None (which is equivalent to -infinity, so it has no effect) but will change in 0.21 to 1e-3. Specify tol to silence this warning.\n",
            "  FutureWarning)\n"
          ],
          "name": "stderr"
        },
        {
          "output_type": "execute_result",
          "data": {
            "text/plain": [
              "array([0.9081 , 0.96565, 0.96435])"
            ]
          },
          "metadata": {
            "tags": []
          },
          "execution_count": 28
        }
      ]
    },
    {
      "metadata": {
        "id": "EJ0Et1MZHaNK",
        "colab_type": "text"
      },
      "cell_type": "markdown",
      "source": [
        "Cross Value Predict will predict the target for each fold and append them into a series."
      ]
    },
    {
      "metadata": {
        "id": "tggdac8VHaNL",
        "colab_type": "text"
      },
      "cell_type": "markdown",
      "source": [
        "### Cross Validation"
      ]
    },
    {
      "metadata": {
        "id": "4nHHZE7RHaNL",
        "colab_type": "code",
        "colab": {
          "base_uri": "https://localhost:8080/",
          "height": 200
        },
        "outputId": "8f39228a-e8be-4a4e-deec-2f9bb2e64571"
      },
      "cell_type": "code",
      "source": [
        "from sklearn.model_selection import cross_val_predict\n",
        "\n",
        "y_train_pred = cross_val_predict(sgd_clf, X_train, y_train_5, cv=5)"
      ],
      "execution_count": 38,
      "outputs": [
        {
          "output_type": "stream",
          "text": [
            "/usr/local/lib/python3.6/dist-packages/sklearn/linear_model/stochastic_gradient.py:183: FutureWarning: max_iter and tol parameters have been added in SGDClassifier in 0.19. If max_iter is set but tol is left unset, the default value for tol in 0.19 and 0.20 will be None (which is equivalent to -infinity, so it has no effect) but will change in 0.21 to 1e-3. Specify tol to silence this warning.\n",
            "  FutureWarning)\n",
            "/usr/local/lib/python3.6/dist-packages/sklearn/linear_model/stochastic_gradient.py:183: FutureWarning: max_iter and tol parameters have been added in SGDClassifier in 0.19. If max_iter is set but tol is left unset, the default value for tol in 0.19 and 0.20 will be None (which is equivalent to -infinity, so it has no effect) but will change in 0.21 to 1e-3. Specify tol to silence this warning.\n",
            "  FutureWarning)\n",
            "/usr/local/lib/python3.6/dist-packages/sklearn/linear_model/stochastic_gradient.py:183: FutureWarning: max_iter and tol parameters have been added in SGDClassifier in 0.19. If max_iter is set but tol is left unset, the default value for tol in 0.19 and 0.20 will be None (which is equivalent to -infinity, so it has no effect) but will change in 0.21 to 1e-3. Specify tol to silence this warning.\n",
            "  FutureWarning)\n",
            "/usr/local/lib/python3.6/dist-packages/sklearn/linear_model/stochastic_gradient.py:183: FutureWarning: max_iter and tol parameters have been added in SGDClassifier in 0.19. If max_iter is set but tol is left unset, the default value for tol in 0.19 and 0.20 will be None (which is equivalent to -infinity, so it has no effect) but will change in 0.21 to 1e-3. Specify tol to silence this warning.\n",
            "  FutureWarning)\n",
            "/usr/local/lib/python3.6/dist-packages/sklearn/linear_model/stochastic_gradient.py:183: FutureWarning: max_iter and tol parameters have been added in SGDClassifier in 0.19. If max_iter is set but tol is left unset, the default value for tol in 0.19 and 0.20 will be None (which is equivalent to -infinity, so it has no effect) but will change in 0.21 to 1e-3. Specify tol to silence this warning.\n",
            "  FutureWarning)\n"
          ],
          "name": "stderr"
        }
      ]
    },
    {
      "metadata": {
        "id": "onOYMeuCHaNO",
        "colab_type": "code",
        "colab": {
          "base_uri": "https://localhost:8080/",
          "height": 33
        },
        "outputId": "59eabc7b-ab70-49c8-b3f3-d42949dac700"
      },
      "cell_type": "code",
      "source": [
        "y_train_pred.shape"
      ],
      "execution_count": 39,
      "outputs": [
        {
          "output_type": "execute_result",
          "data": {
            "text/plain": [
              "(60000,)"
            ]
          },
          "metadata": {
            "tags": []
          },
          "execution_count": 39
        }
      ]
    },
    {
      "metadata": {
        "id": "wjixMKgKHaNQ",
        "colab_type": "code",
        "colab": {
          "base_uri": "https://localhost:8080/",
          "height": 33
        },
        "outputId": "6a23c64f-9c05-4006-c54f-1558bc88ae68"
      },
      "cell_type": "code",
      "source": [
        "len(y_train_pred)"
      ],
      "execution_count": 40,
      "outputs": [
        {
          "output_type": "execute_result",
          "data": {
            "text/plain": [
              "60000"
            ]
          },
          "metadata": {
            "tags": []
          },
          "execution_count": 40
        }
      ]
    },
    {
      "metadata": {
        "id": "W2L2BR2n4rm_",
        "colab_type": "code",
        "colab": {}
      },
      "cell_type": "code",
      "source": [
        "from sklearn.metrics import accuracy_score"
      ],
      "execution_count": 0,
      "outputs": []
    },
    {
      "metadata": {
        "id": "dxOqiXAG4ufE",
        "colab_type": "code",
        "colab": {
          "base_uri": "https://localhost:8080/",
          "height": 33
        },
        "outputId": "d57c34b7-adb9-4055-bbb8-7faa087a53fe"
      },
      "cell_type": "code",
      "source": [
        "accuracy_score(y_train_5, y_train_pred)"
      ],
      "execution_count": 42,
      "outputs": [
        {
          "output_type": "execute_result",
          "data": {
            "text/plain": [
              "0.95295"
            ]
          },
          "metadata": {
            "tags": []
          },
          "execution_count": 42
        }
      ]
    },
    {
      "metadata": {
        "id": "a7vrK3HWHaNT",
        "colab_type": "code",
        "colab": {
          "base_uri": "https://localhost:8080/",
          "height": 50
        },
        "outputId": "14584350-9a98-472d-99c9-a703f5b59413"
      },
      "cell_type": "code",
      "source": [
        "from sklearn.metrics import confusion_matrix\n",
        "\n",
        "confusion_matrix(y_train_5, y_train_pred)"
      ],
      "execution_count": 43,
      "outputs": [
        {
          "output_type": "execute_result",
          "data": {
            "text/plain": [
              "array([[52667,  1912],\n",
              "       [  911,  4510]])"
            ]
          },
          "metadata": {
            "tags": []
          },
          "execution_count": 43
        }
      ]
    },
    {
      "metadata": {
        "id": "JMari3IBHaNV",
        "colab_type": "code",
        "colab": {
          "base_uri": "https://localhost:8080/",
          "height": 33
        },
        "outputId": "bf220faf-d3cc-4529-f55a-84019fc874bf"
      },
      "cell_type": "code",
      "source": [
        "from sklearn.metrics import precision_score, recall_score\n",
        "\n",
        "precision_score(y_train_5, y_train_pred) # When we predict it it be 5, how often are we right? "
      ],
      "execution_count": 44,
      "outputs": [
        {
          "output_type": "execute_result",
          "data": {
            "text/plain": [
              "0.7022734350669574"
            ]
          },
          "metadata": {
            "tags": []
          },
          "execution_count": 44
        }
      ]
    },
    {
      "metadata": {
        "id": "mvTSFtROHaNZ",
        "colab_type": "code",
        "colab": {
          "base_uri": "https://localhost:8080/",
          "height": 33
        },
        "outputId": "1aa9c7e0-a817-4f7e-9d06-cc3ea1663977"
      },
      "cell_type": "code",
      "source": [
        "recall_score(y_train_5, y_train_pred) # When it is 5, how often do we predict it to be 5?"
      ],
      "execution_count": 45,
      "outputs": [
        {
          "output_type": "execute_result",
          "data": {
            "text/plain": [
              "0.8319498247555801"
            ]
          },
          "metadata": {
            "tags": []
          },
          "execution_count": 45
        }
      ]
    },
    {
      "metadata": {
        "id": "XmYnv-PuHaNa",
        "colab_type": "code",
        "colab": {
          "base_uri": "https://localhost:8080/",
          "height": 33
        },
        "outputId": "6d3bde36-68df-4893-d979-04ee7bda3597"
      },
      "cell_type": "code",
      "source": [
        "from sklearn.metrics import f1_score\n",
        "f1_score(y_train_5, y_train_pred)  # combination of precision and recall"
      ],
      "execution_count": 46,
      "outputs": [
        {
          "output_type": "execute_result",
          "data": {
            "text/plain": [
              "0.761631343409609"
            ]
          },
          "metadata": {
            "tags": []
          },
          "execution_count": 46
        }
      ]
    },
    {
      "metadata": {
        "id": "AMqYyX1DHaNe",
        "colab_type": "text"
      },
      "cell_type": "markdown",
      "source": [
        "# 05-B : Model Selection"
      ]
    },
    {
      "metadata": {
        "id": "pG8-wcM1HaNe",
        "colab_type": "text"
      },
      "cell_type": "markdown",
      "source": [
        "### Dummy Classifier"
      ]
    },
    {
      "metadata": {
        "id": "bGiQR1PLHaNe",
        "colab_type": "text"
      },
      "cell_type": "markdown",
      "source": [
        "In the train set, only 10% of the rows are labelled to be 5 and remaining are not 5's. So instead of using a model, by using a dummy classifier that give 0 as the prediction for every row, we can obtain 90% accuracy."
      ]
    },
    {
      "metadata": {
        "id": "zAWigVWjHaNf",
        "colab_type": "code",
        "colab": {}
      },
      "cell_type": "code",
      "source": [
        "from sklearn.base import BaseEstimator\n",
        "class Never5Classifier(BaseEstimator):\n",
        "    def fit(self, X, y=None):\n",
        "        pass\n",
        "    def predict(self, X):\n",
        "        return np.zeros((len(X), 1), dtype=bool)"
      ],
      "execution_count": 0,
      "outputs": []
    },
    {
      "metadata": {
        "id": "KgYsRyXtHaNh",
        "colab_type": "code",
        "colab": {}
      },
      "cell_type": "code",
      "source": [
        "never_5_clf = Never5Classifier()"
      ],
      "execution_count": 0,
      "outputs": []
    },
    {
      "metadata": {
        "id": "tFxw9rVlHaNj",
        "colab_type": "text"
      },
      "cell_type": "markdown",
      "source": [
        "# 06-B : Tune the Model"
      ]
    },
    {
      "metadata": {
        "id": "_tc1nWrkIkY1",
        "colab_type": "text"
      },
      "cell_type": "markdown",
      "source": [
        "### BL NOTE - Venkatesh's intention here is to prove that even if the accuracy score is high (91%), it can still be a worthless model beause the precision score is 0 and recall score is 0.  Precision and recall are usually more important metrics.  The F1 score is a weighted combination of both precision and recall."
      ]
    },
    {
      "metadata": {
        "id": "sZu51s3lHaNj",
        "colab_type": "code",
        "colab": {
          "base_uri": "https://localhost:8080/",
          "height": 33
        },
        "outputId": "5577edde-90bf-4e0a-934d-6da7554f2062"
      },
      "cell_type": "code",
      "source": [
        "cross_val_score(never_5_clf, X_train, y_train_5, cv=5, scoring=\"accuracy\")"
      ],
      "execution_count": 59,
      "outputs": [
        {
          "output_type": "execute_result",
          "data": {
            "text/plain": [
              "array([0.90925   , 0.90758333, 0.90966667, 0.9095    , 0.91225   ])"
            ]
          },
          "metadata": {
            "tags": []
          },
          "execution_count": 59
        }
      ]
    },
    {
      "metadata": {
        "id": "8Uskj7ZBHaNl",
        "colab_type": "code",
        "colab": {}
      },
      "cell_type": "code",
      "source": [
        "predictions = never_5_clf.predict(X_test)"
      ],
      "execution_count": 0,
      "outputs": []
    },
    {
      "metadata": {
        "id": "FhVJk7itHaNm",
        "colab_type": "code",
        "colab": {
          "base_uri": "https://localhost:8080/",
          "height": 131
        },
        "outputId": "1b7f228d-5666-4144-eca8-779366599eb2"
      },
      "cell_type": "code",
      "source": [
        "predictions"
      ],
      "execution_count": 61,
      "outputs": [
        {
          "output_type": "execute_result",
          "data": {
            "text/plain": [
              "array([[False],\n",
              "       [False],\n",
              "       [False],\n",
              "       ...,\n",
              "       [False],\n",
              "       [False],\n",
              "       [False]])"
            ]
          },
          "metadata": {
            "tags": []
          },
          "execution_count": 61
        }
      ]
    },
    {
      "metadata": {
        "id": "iWHLy_YoHaNp",
        "colab_type": "code",
        "colab": {
          "base_uri": "https://localhost:8080/",
          "height": 50
        },
        "outputId": "7432105a-f227-493b-d023-696d62c31eb6"
      },
      "cell_type": "code",
      "source": [
        "confusion_matrix(y_test_5,predictions)"
      ],
      "execution_count": 62,
      "outputs": [
        {
          "output_type": "execute_result",
          "data": {
            "text/plain": [
              "array([[9108,    0],\n",
              "       [ 892,    0]])"
            ]
          },
          "metadata": {
            "tags": []
          },
          "execution_count": 62
        }
      ]
    },
    {
      "metadata": {
        "id": "bbxJY4blvF_S",
        "colab_type": "code",
        "colab": {
          "base_uri": "https://localhost:8080/",
          "height": 33
        },
        "outputId": "437f5334-b0c2-4b17-e51e-a862c6ed3271"
      },
      "cell_type": "code",
      "source": [
        "accuracy_score(y_test_5,predictions)"
      ],
      "execution_count": 53,
      "outputs": [
        {
          "output_type": "execute_result",
          "data": {
            "text/plain": [
              "0.9108"
            ]
          },
          "metadata": {
            "tags": []
          },
          "execution_count": 53
        }
      ]
    },
    {
      "metadata": {
        "id": "AtOTUManHaNs",
        "colab_type": "code",
        "colab": {
          "base_uri": "https://localhost:8080/",
          "height": 86
        },
        "outputId": "f1305550-0d12-45c1-9d24-789396940082"
      },
      "cell_type": "code",
      "source": [
        "precision_score(y_test_5,predictions)"
      ],
      "execution_count": 54,
      "outputs": [
        {
          "output_type": "stream",
          "text": [
            "/usr/local/lib/python3.6/dist-packages/sklearn/metrics/classification.py:1143: UndefinedMetricWarning: Precision is ill-defined and being set to 0.0 due to no predicted samples.\n",
            "  'precision', 'predicted', average, warn_for)\n"
          ],
          "name": "stderr"
        },
        {
          "output_type": "execute_result",
          "data": {
            "text/plain": [
              "0.0"
            ]
          },
          "metadata": {
            "tags": []
          },
          "execution_count": 54
        }
      ]
    },
    {
      "metadata": {
        "id": "ogd7a1B2HaNu",
        "colab_type": "code",
        "colab": {
          "base_uri": "https://localhost:8080/",
          "height": 33
        },
        "outputId": "25deb3d8-ae17-4470-da37-cdfd4d1ed86b"
      },
      "cell_type": "code",
      "source": [
        "recall_score(y_test_5,predictions)"
      ],
      "execution_count": 55,
      "outputs": [
        {
          "output_type": "execute_result",
          "data": {
            "text/plain": [
              "0.0"
            ]
          },
          "metadata": {
            "tags": []
          },
          "execution_count": 55
        }
      ]
    },
    {
      "metadata": {
        "id": "beIEgGWOHaNv",
        "colab_type": "text"
      },
      "cell_type": "markdown",
      "source": [
        "# Precision and Recall Threshold"
      ]
    },
    {
      "metadata": {
        "id": "41Lom2kNHaNx",
        "colab_type": "text"
      },
      "cell_type": "markdown",
      "source": [
        "We study the precision recall relationship using SGD Classifier"
      ]
    },
    {
      "metadata": {
        "id": "JXLkQfjAHaNx",
        "colab_type": "text"
      },
      "cell_type": "markdown",
      "source": [
        "<center><img src=\"https://www.dropbox.com/s/anfhedig7uz35fw/tradeoff.png?raw=1\" height=300px width=1000px></img></center>"
      ]
    },
    {
      "metadata": {
        "id": "pZROKWntHaNy",
        "colab_type": "code",
        "colab": {
          "base_uri": "https://localhost:8080/",
          "height": 135
        },
        "outputId": "dd5994a1-4da4-4d70-ad76-f5f5089dcbee"
      },
      "cell_type": "code",
      "source": [
        "from sklearn.model_selection import cross_val_predict\n",
        "y_scores = cross_val_predict(sgd_clf, X_train, y_train_5, cv=3,method=\"decision_function\")"
      ],
      "execution_count": 63,
      "outputs": [
        {
          "output_type": "stream",
          "text": [
            "/usr/local/lib/python3.6/dist-packages/sklearn/linear_model/stochastic_gradient.py:183: FutureWarning: max_iter and tol parameters have been added in SGDClassifier in 0.19. If max_iter is set but tol is left unset, the default value for tol in 0.19 and 0.20 will be None (which is equivalent to -infinity, so it has no effect) but will change in 0.21 to 1e-3. Specify tol to silence this warning.\n",
            "  FutureWarning)\n",
            "/usr/local/lib/python3.6/dist-packages/sklearn/linear_model/stochastic_gradient.py:183: FutureWarning: max_iter and tol parameters have been added in SGDClassifier in 0.19. If max_iter is set but tol is left unset, the default value for tol in 0.19 and 0.20 will be None (which is equivalent to -infinity, so it has no effect) but will change in 0.21 to 1e-3. Specify tol to silence this warning.\n",
            "  FutureWarning)\n",
            "/usr/local/lib/python3.6/dist-packages/sklearn/linear_model/stochastic_gradient.py:183: FutureWarning: max_iter and tol parameters have been added in SGDClassifier in 0.19. If max_iter is set but tol is left unset, the default value for tol in 0.19 and 0.20 will be None (which is equivalent to -infinity, so it has no effect) but will change in 0.21 to 1e-3. Specify tol to silence this warning.\n",
            "  FutureWarning)\n"
          ],
          "name": "stderr"
        }
      ]
    },
    {
      "metadata": {
        "id": "MtY7XPvOHaN0",
        "colab_type": "code",
        "colab": {}
      },
      "cell_type": "code",
      "source": [
        "from sklearn.metrics import precision_recall_curve\n",
        "\n",
        "precisions, recalls, thresholds = precision_recall_curve(y_train_5, y_scores)"
      ],
      "execution_count": 0,
      "outputs": []
    },
    {
      "metadata": {
        "id": "vfzMwKXDHaN2",
        "colab_type": "code",
        "colab": {
          "base_uri": "https://localhost:8080/",
          "height": 33
        },
        "outputId": "e213ca7a-eb84-41ae-af1a-9a83cd6fc919"
      },
      "cell_type": "code",
      "source": [
        "len(precisions)"
      ],
      "execution_count": 65,
      "outputs": [
        {
          "output_type": "execute_result",
          "data": {
            "text/plain": [
              "59822"
            ]
          },
          "metadata": {
            "tags": []
          },
          "execution_count": 65
        }
      ]
    },
    {
      "metadata": {
        "id": "PtITJPeIHaN4",
        "colab_type": "code",
        "colab": {
          "base_uri": "https://localhost:8080/",
          "height": 288
        },
        "outputId": "be95fe05-e830-4681-ad3c-5bdda5ec1b8a"
      },
      "cell_type": "code",
      "source": [
        "def plot_precision_recall_vs_threshold(precisions, recalls, thresholds):\n",
        "    plt.plot(thresholds, precisions[:-1], \"b--\", label=\"Precision\", linewidth=2)\n",
        "    plt.plot(thresholds, recalls[:-1], \"g-\", label=\"Recall\", linewidth=2)\n",
        "    plt.xlabel(\"Threshold\", fontsize=16)\n",
        "    plt.legend(loc=\"upper left\", fontsize=16)\n",
        "    plt.ylim([0, 1])\n",
        "\n",
        "plt.figure(figsize=(8, 4))\n",
        "plot_precision_recall_vs_threshold(precisions, recalls, thresholds)\n",
        "plt.xlim([-700000, 700000])\n",
        "plt.show()"
      ],
      "execution_count": 66,
      "outputs": [
        {
          "output_type": "display_data",
          "data": {
            "image/png": "[encoded data removed]",
            "text/plain": [
              "<Figure size 576x288 with 1 Axes>"
            ]
          },
          "metadata": {
            "tags": []
          }
        }
      ]
    },
    {
      "metadata": {
        "id": "9OiRJNihHaOO",
        "colab_type": "text"
      },
      "cell_type": "markdown",
      "source": [
        "# 05-C : Model Selection"
      ]
    },
    {
      "metadata": {
        "id": "nipK0sMkHaOP",
        "colab_type": "text"
      },
      "cell_type": "markdown",
      "source": [
        "### Multiclass classification"
      ]
    },
    {
      "metadata": {
        "id": "AHL4NTmoHaOQ",
        "colab_type": "text"
      },
      "cell_type": "markdown",
      "source": [
        "Using SGD Classifier for prediciton of 10 classes ([0-9])"
      ]
    },
    {
      "metadata": {
        "id": "sZwNBSCGHaOR",
        "colab_type": "code",
        "colab": {
          "base_uri": "https://localhost:8080/",
          "height": 86
        },
        "outputId": "601b9a49-9f25-4597-bb07-38c8835f7c0a"
      },
      "cell_type": "code",
      "source": [
        "sgd_clf.fit(X_train, y_train)\n",
        "sgd_clf.predict([some_digit])"
      ],
      "execution_count": 67,
      "outputs": [
        {
          "output_type": "stream",
          "text": [
            "/usr/local/lib/python3.6/dist-packages/sklearn/linear_model/stochastic_gradient.py:183: FutureWarning: max_iter and tol parameters have been added in SGDClassifier in 0.19. If max_iter is set but tol is left unset, the default value for tol in 0.19 and 0.20 will be None (which is equivalent to -infinity, so it has no effect) but will change in 0.21 to 1e-3. Specify tol to silence this warning.\n",
            "  FutureWarning)\n"
          ],
          "name": "stderr"
        },
        {
          "output_type": "execute_result",
          "data": {
            "text/plain": [
              "array([5])"
            ]
          },
          "metadata": {
            "tags": []
          },
          "execution_count": 67
        }
      ]
    },
    {
      "metadata": {
        "id": "KgyqG5DCHaOT",
        "colab_type": "text"
      },
      "cell_type": "markdown",
      "source": [
        "# 06-C : Tune the Model"
      ]
    },
    {
      "metadata": {
        "id": "usRG33nevxwR",
        "colab_type": "code",
        "colab": {}
      },
      "cell_type": "code",
      "source": [
        "y_hat = sgd_clf.predict(X_test)"
      ],
      "execution_count": 0,
      "outputs": []
    },
    {
      "metadata": {
        "id": "eE8Q-mrgv4yf",
        "colab_type": "code",
        "colab": {
          "base_uri": "https://localhost:8080/",
          "height": 180
        },
        "outputId": "f61f8ae4-852c-4072-cf46-063591cbe431"
      },
      "cell_type": "code",
      "source": [
        "confusion_matrix(y_test,y_hat)"
      ],
      "execution_count": 69,
      "outputs": [
        {
          "output_type": "execute_result",
          "data": {
            "text/plain": [
              "array([[ 933,    0,    1,    1,    1,    1,   28,    1,   12,    2],\n",
              "       [   0, 1034,   60,    6,    2,    1,    5,    1,   21,    5],\n",
              "       [  12,    5,  925,    5,   10,    0,   18,    8,   45,    4],\n",
              "       [   6,    0,   45,  883,    6,   16,    5,    8,   27,   14],\n",
              "       [   3,    0,    4,    3,  905,    0,    8,    0,   20,   39],\n",
              "       [  12,    2,    4,   45,   35,  627,   33,   16,   94,   24],\n",
              "       [   6,    3,    4,    1,    6,    2,  919,    0,   17,    0],\n",
              "       [   3,    2,   23,    2,   17,    0,    1,  891,    8,   81],\n",
              "       [   7,   13,   25,   39,   61,    6,   15,   14,  764,   30],\n",
              "       [   4,    4,    2,    8,   59,    2,    4,   11,   19,  896]])"
            ]
          },
          "metadata": {
            "tags": []
          },
          "execution_count": 69
        }
      ]
    },
    {
      "metadata": {
        "id": "Je_jSVBlHaOT",
        "colab_type": "code",
        "colab": {
          "base_uri": "https://localhost:8080/",
          "height": 82
        },
        "outputId": "5272a817-8111-4020-af6f-dfb6f424c63c"
      },
      "cell_type": "code",
      "source": [
        "some_digit_scores = sgd_clf.decision_function([some_digit])\n",
        "some_digit_scores"
      ],
      "execution_count": 70,
      "outputs": [
        {
          "output_type": "execute_result",
          "data": {
            "text/plain": [
              "array([[-415442.50049139, -108357.1330466 , -147063.17807734,\n",
              "        -212625.63731469,   11800.67876137,   74727.79638241,\n",
              "        -344276.95757053, -209897.08191179,  -67778.16195255,\n",
              "        -403375.69259907]])"
            ]
          },
          "metadata": {
            "tags": []
          },
          "execution_count": 70
        }
      ]
    },
    {
      "metadata": {
        "id": "A5FL70tKHaOV",
        "colab_type": "code",
        "colab": {
          "base_uri": "https://localhost:8080/",
          "height": 33
        },
        "outputId": "ea40bf24-0e78-4745-a228-8c4c32ae672d"
      },
      "cell_type": "code",
      "source": [
        "np.argmax(some_digit_scores)"
      ],
      "execution_count": 71,
      "outputs": [
        {
          "output_type": "execute_result",
          "data": {
            "text/plain": [
              "5"
            ]
          },
          "metadata": {
            "tags": []
          },
          "execution_count": 71
        }
      ]
    },
    {
      "metadata": {
        "id": "Ftx32zKqHaOX",
        "colab_type": "code",
        "colab": {
          "base_uri": "https://localhost:8080/",
          "height": 33
        },
        "outputId": "345be25c-0df2-4ff8-9143-234632f3a1f4"
      },
      "cell_type": "code",
      "source": [
        "sgd_clf.classes_"
      ],
      "execution_count": 72,
      "outputs": [
        {
          "output_type": "execute_result",
          "data": {
            "text/plain": [
              "array([0, 1, 2, 3, 4, 5, 6, 7, 8, 9])"
            ]
          },
          "metadata": {
            "tags": []
          },
          "execution_count": 72
        }
      ]
    },
    {
      "metadata": {
        "id": "LjNuhhmJHaOZ",
        "colab_type": "code",
        "colab": {
          "base_uri": "https://localhost:8080/",
          "height": 33
        },
        "outputId": "94f3f5c6-e49b-4cb1-9f4e-4e770cd36ace"
      },
      "cell_type": "code",
      "source": [
        "sgd_clf.classes_[5]"
      ],
      "execution_count": 73,
      "outputs": [
        {
          "output_type": "execute_result",
          "data": {
            "text/plain": [
              "5"
            ]
          },
          "metadata": {
            "tags": []
          },
          "execution_count": 73
        }
      ]
    },
    {
      "metadata": {
        "id": "pJQYA4nxHaOn",
        "colab_type": "text"
      },
      "cell_type": "markdown",
      "source": [
        "# 05-E : Model Selection"
      ]
    },
    {
      "metadata": {
        "id": "tbSz--nEHaOn",
        "colab_type": "text"
      },
      "cell_type": "markdown",
      "source": [
        "### Random Forest Classifier"
      ]
    },
    {
      "metadata": {
        "id": "lSRc0eHGHaOn",
        "colab_type": "text"
      },
      "cell_type": "markdown",
      "source": [
        "Using Random Forest Classifier"
      ]
    },
    {
      "metadata": {
        "id": "mnqQATn8HaOn",
        "colab_type": "code",
        "colab": {
          "base_uri": "https://localhost:8080/",
          "height": 66
        },
        "outputId": "073cc725-d0f3-4411-ca78-5bc303bf264e"
      },
      "cell_type": "code",
      "source": [
        "from sklearn.ensemble import RandomForestClassifier\n",
        "forest_clf = RandomForestClassifier()\n",
        "forest_clf.fit(X_train, y_train)\n",
        "forest_clf.predict([some_digit])"
      ],
      "execution_count": 74,
      "outputs": [
        {
          "output_type": "stream",
          "text": [
            "/usr/local/lib/python3.6/dist-packages/sklearn/ensemble/forest.py:246: FutureWarning: The default value of n_estimators will change from 10 in version 0.20 to 100 in 0.22.\n",
            "  \"10 in version 0.20 to 100 in 0.22.\", FutureWarning)\n"
          ],
          "name": "stderr"
        },
        {
          "output_type": "execute_result",
          "data": {
            "text/plain": [
              "array([5])"
            ]
          },
          "metadata": {
            "tags": []
          },
          "execution_count": 74
        }
      ]
    },
    {
      "metadata": {
        "id": "i0Nd94DdHaOp",
        "colab_type": "text"
      },
      "cell_type": "markdown",
      "source": [
        "# 06-E : Tune the Model"
      ]
    },
    {
      "metadata": {
        "id": "ErXwRbJcHaOq",
        "colab_type": "code",
        "colab": {
          "base_uri": "https://localhost:8080/",
          "height": 33
        },
        "outputId": "bbb32842-09b2-4b33-ceb1-ec907673aebb"
      },
      "cell_type": "code",
      "source": [
        "forest_clf.predict_proba([some_digit])"
      ],
      "execution_count": 75,
      "outputs": [
        {
          "output_type": "execute_result",
          "data": {
            "text/plain": [
              "array([[0. , 0. , 0. , 0. , 0. , 0.9, 0. , 0. , 0.1, 0. ]])"
            ]
          },
          "metadata": {
            "tags": []
          },
          "execution_count": 75
        }
      ]
    },
    {
      "metadata": {
        "id": "Bl9LrB5DHaOr",
        "colab_type": "code",
        "colab": {}
      },
      "cell_type": "code",
      "source": [
        "forest_clf_predictions = forest_clf.predict(X_test)"
      ],
      "execution_count": 0,
      "outputs": []
    },
    {
      "metadata": {
        "id": "XAdzyBlgHaOt",
        "colab_type": "code",
        "colab": {
          "base_uri": "https://localhost:8080/",
          "height": 33
        },
        "outputId": "7326611a-ba1f-41da-cd24-7070c6ec57e9"
      },
      "cell_type": "code",
      "source": [
        "accuracy_score(y_test,forest_clf_predictions)"
      ],
      "execution_count": 77,
      "outputs": [
        {
          "output_type": "execute_result",
          "data": {
            "text/plain": [
              "0.9473"
            ]
          },
          "metadata": {
            "tags": []
          },
          "execution_count": 77
        }
      ]
    },
    {
      "metadata": {
        "id": "d5s_56YKHaOv",
        "colab_type": "code",
        "colab": {
          "base_uri": "https://localhost:8080/",
          "height": 33
        },
        "outputId": "798f692e-f785-4969-938c-43dff768d60a"
      },
      "cell_type": "code",
      "source": [
        "precision_score(y_test,forest_clf_predictions,average=\"macro\")"
      ],
      "execution_count": 78,
      "outputs": [
        {
          "output_type": "execute_result",
          "data": {
            "text/plain": [
              "0.9471610569426885"
            ]
          },
          "metadata": {
            "tags": []
          },
          "execution_count": 78
        }
      ]
    },
    {
      "metadata": {
        "id": "HqtxPJwWHaOw",
        "colab_type": "code",
        "colab": {
          "base_uri": "https://localhost:8080/",
          "height": 33
        },
        "outputId": "9c6fff92-b243-41c7-f0e3-10880a882ccc"
      },
      "cell_type": "code",
      "source": [
        "recall_score(y_test,forest_clf_predictions,average='macro')"
      ],
      "execution_count": 79,
      "outputs": [
        {
          "output_type": "execute_result",
          "data": {
            "text/plain": [
              "0.9466416648051974"
            ]
          },
          "metadata": {
            "tags": []
          },
          "execution_count": 79
        }
      ]
    },
    {
      "metadata": {
        "id": "kSrxv8t8HaOx",
        "colab_type": "text"
      },
      "cell_type": "markdown",
      "source": [
        "# 05-F : Model Selection"
      ]
    },
    {
      "metadata": {
        "id": "9wLJWIDUHaOy",
        "colab_type": "text"
      },
      "cell_type": "markdown",
      "source": [
        "### Multilabel classification using K Neighbors Classifier"
      ]
    },
    {
      "metadata": {
        "id": "9uA73WT0HaOy",
        "colab_type": "text"
      },
      "cell_type": "markdown",
      "source": [
        "Multilabel Classification helps to give multiple labelled predictions for single output.  \n",
        "For example here the labels are:  \n",
        "- A number is greater than 7 or not.\n",
        "- Is a number even or not.\n"
      ]
    },
    {
      "metadata": {
        "id": "idCuUw33HaOy",
        "colab_type": "code",
        "colab": {
          "base_uri": "https://localhost:8080/",
          "height": 66
        },
        "outputId": "abdde14b-183b-4268-8aca-6977ffb2eec0"
      },
      "cell_type": "code",
      "source": [
        "from sklearn.neighbors import KNeighborsClassifier\n",
        "\n",
        "y_train_large = (y_train >= 7)\n",
        "y_train_odd = (y_train % 2 == 1)\n",
        "y_multilabel = np.c_[y_train_large, y_train_odd]\n",
        "\n",
        "knn_clf = KNeighborsClassifier()\n",
        "knn_clf.fit(X_train, y_multilabel)"
      ],
      "execution_count": 80,
      "outputs": [
        {
          "output_type": "execute_result",
          "data": {
            "text/plain": [
              "KNeighborsClassifier(algorithm='auto', leaf_size=30, metric='minkowski',\n",
              "           metric_params=None, n_jobs=None, n_neighbors=5, p=2,\n",
              "           weights='uniform')"
            ]
          },
          "metadata": {
            "tags": []
          },
          "execution_count": 80
        }
      ]
    },
    {
      "metadata": {
        "id": "FjhFMQ_AHaO0",
        "colab_type": "code",
        "colab": {
          "base_uri": "https://localhost:8080/",
          "height": 33
        },
        "outputId": "e78457af-f6fa-4174-dbe5-7113c9191796"
      },
      "cell_type": "code",
      "source": [
        "y_train_large.shape"
      ],
      "execution_count": 81,
      "outputs": [
        {
          "output_type": "execute_result",
          "data": {
            "text/plain": [
              "(60000,)"
            ]
          },
          "metadata": {
            "tags": []
          },
          "execution_count": 81
        }
      ]
    },
    {
      "metadata": {
        "id": "EPJicNytJ1Oo",
        "colab_type": "code",
        "colab": {}
      },
      "cell_type": "code",
      "source": [
        ""
      ],
      "execution_count": 0,
      "outputs": []
    }
  ]
}